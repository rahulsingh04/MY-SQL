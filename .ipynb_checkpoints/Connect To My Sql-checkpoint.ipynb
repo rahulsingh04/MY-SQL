{
 "cells": [
  {
   "cell_type": "code",
   "execution_count": 8,
   "id": "5e527516",
   "metadata": {},
   "outputs": [],
   "source": [
    "# !pip install mysql-connector-python\n"
   ]
  },
  {
   "cell_type": "markdown",
   "id": "50388873",
   "metadata": {},
   "source": [
    "### Connecting to the sql "
   ]
  },
  {
   "cell_type": "code",
   "execution_count": 4,
   "id": "3090cc9c",
   "metadata": {},
   "outputs": [
    {
     "name": "stdout",
     "output_type": "stream",
     "text": [
      "True\n"
     ]
    }
   ],
   "source": [
    "import mysql.connector as connection\n",
    "\n",
    "try:\n",
    "    mydb = connection.connect(host=\"localhost\", user=\"root\", passwd=\"12345\",use_pure=True)\n",
    "    # check if the connection is established\n",
    "    print(mydb.is_connected())\n",
    "    mydb.close()\n",
    "except Exception as e:\n",
    "    print(str(e))"
   ]
  },
  {
   "cell_type": "code",
   "execution_count": 5,
   "id": "6f64382f",
   "metadata": {},
   "outputs": [],
   "source": [
    "import mysql.connector as connection\n"
   ]
  },
  {
   "cell_type": "code",
   "execution_count": 9,
   "id": "f8f8721c",
   "metadata": {},
   "outputs": [],
   "source": [
    "mydb = connection.connect(host=\"localhost\", user=\"root\", passwd=\"12345\", use_pure=True)"
   ]
  },
  {
   "cell_type": "code",
   "execution_count": 10,
   "id": "d1645765",
   "metadata": {},
   "outputs": [
    {
     "data": {
      "text/plain": [
       "<mysql.connector.connection.MySQLConnection at 0x253754fa8b0>"
      ]
     },
     "execution_count": 10,
     "metadata": {},
     "output_type": "execute_result"
    }
   ],
   "source": [
    "mydb"
   ]
  },
  {
   "cell_type": "code",
   "execution_count": 12,
   "id": "adfa7d55",
   "metadata": {},
   "outputs": [],
   "source": [
    "cur = mydb.cursor()\n"
   ]
  },
  {
   "cell_type": "code",
   "execution_count": 14,
   "id": "8b331004",
   "metadata": {},
   "outputs": [],
   "source": [
    "cur.execute(\"SHOW DATABASES\")"
   ]
  },
  {
   "cell_type": "code",
   "execution_count": 15,
   "id": "b0ae5e79",
   "metadata": {},
   "outputs": [],
   "source": [
    "res = cur.fetchall()"
   ]
  },
  {
   "cell_type": "code",
   "execution_count": 16,
   "id": "59c01e89",
   "metadata": {},
   "outputs": [
    {
     "data": {
      "text/plain": [
       "[('information_schema',),\n",
       " ('lco_car_rentals',),\n",
       " ('lco_users',),\n",
       " ('mysql',),\n",
       " ('new_lco',),\n",
       " ('performance_schema',),\n",
       " ('photo_store',),\n",
       " ('sys',)]"
      ]
     },
     "execution_count": 16,
     "metadata": {},
     "output_type": "execute_result"
    }
   ],
   "source": [
    "res"
   ]
  },
  {
   "cell_type": "code",
   "execution_count": 22,
   "id": "d385beaa",
   "metadata": {},
   "outputs": [
    {
     "name": "stdout",
     "output_type": "stream",
     "text": [
      "information_schema\n",
      "lco_car_rentals\n",
      "lco_users\n",
      "mysql\n",
      "new_lco\n",
      "performance_schema\n",
      "photo_store\n",
      "sys\n"
     ]
    }
   ],
   "source": [
    "for i in res:\n",
    "    if type(i)==tuple:\n",
    "        print(i[0])"
   ]
  },
  {
   "cell_type": "code",
   "execution_count": 1,
   "id": "58968558",
   "metadata": {},
   "outputs": [],
   "source": [
    "# import mysql.connector as connection\n",
    "\n",
    "# try:\n",
    "#     mydb = connection.connect(host=\"localhost\", user=\"root\", passwd=\"12345\",use_pure=True)\n",
    "#     # check if the connection is established\n",
    "#     print(mydb.is_connected())\n",
    "#     mydb.close()\n",
    "# except Exception as e:\n",
    "#     print(str(e))"
   ]
  },
  {
   "cell_type": "code",
   "execution_count": 3,
   "id": "df189dee",
   "metadata": {},
   "outputs": [
    {
     "name": "stdout",
     "output_type": "stream",
     "text": [
      "True\n"
     ]
    }
   ],
   "source": [
    "import mysql.connector as  connection\n",
    "try:\n",
    "    mydb = connection.connect(host = 'localhost', user = 'root', passwd = '12345', use_pure = True)\n",
    "    #check if the connection is established\n",
    "    print(mydb.is_connected())\n",
    "    mydb.close()\n",
    "except Exception as e:\n",
    "    print(str(e))"
   ]
  },
  {
   "cell_type": "code",
   "execution_count": 4,
   "id": "81844311",
   "metadata": {},
   "outputs": [],
   "source": [
    "mydb = connection.connect(host=\"localhost\", user=\"root\", passwd=\"12345\", use_pure=True)\n",
    "cur = mydb.cursor()\n"
   ]
  },
  {
   "cell_type": "code",
   "execution_count": 5,
   "id": "5c34ad99",
   "metadata": {},
   "outputs": [],
   "source": [
    "cur.execute(\"SHOW DATABASES\")\n",
    "res = cur.fetchall()"
   ]
  },
  {
   "cell_type": "code",
   "execution_count": 6,
   "id": "a6f4d857",
   "metadata": {},
   "outputs": [
    {
     "name": "stdout",
     "output_type": "stream",
     "text": [
      "1 information_schema\n",
      "2 lco_car_rentals\n",
      "3 lco_users\n",
      "4 mysql\n",
      "5 new_lco\n",
      "6 performance_schema\n",
      "7 photo_store\n",
      "8 student\n",
      "9 sys\n"
     ]
    }
   ],
   "source": [
    "count = 0\n",
    "for i in res:\n",
    "    count = count+1\n",
    "    print(count, i[0])"
   ]
  },
  {
   "cell_type": "markdown",
   "id": "cbf4a787",
   "metadata": {},
   "source": [
    "### Creating the Database"
   ]
  },
  {
   "cell_type": "code",
   "execution_count": 14,
   "id": "ba3dd3dd",
   "metadata": {},
   "outputs": [],
   "source": [
    "import mysql.connector as connection\n",
    "\n",
    "try:\n",
    "    mydb = connection.connect(host=\"localhost\", user=\"root\", passwd=\"mysql\",use_pure=True)\n",
    "    # check if the connection is established\n",
    "    print(mydb.is_connected())\n",
    "\n",
    "    query = \"Create database Student;\"\n",
    "    cursor = mydb.cursor() #create a cursor to execute queries\n",
    "    cursor.execute(query)\n",
    "    print(\"Database Created!!\")\n",
    "    mydb.close()\n",
    "except Exception as e:\n",
    "    mydb.close()\n",
    "    print(str(e))"
   ]
  },
  {
   "cell_type": "markdown",
   "id": "b9edfad7",
   "metadata": {},
   "source": [
    "### Creating the Table "
   ]
  },
  {
   "cell_type": "code",
   "execution_count": 10,
   "id": "ff0867c3",
   "metadata": {},
   "outputs": [],
   "source": [
    "import mysql.connector as connection\n",
    "\n",
    "try:\n",
    "    mydb = connection.connect(host=\"localhost\", database = 'Student',user=\"root\", passwd=\"mysql\",use_pure=True)\n",
    "    # check if the connection is established\n",
    "    print(mydb.is_connected())\n",
    "\n",
    "    query = \"CREATE TABLE StudentDetails (Studentid INT(10) AUTO_INCREMENT PRIMARY KEY,FirstName VARCHAR(60),\" \\\n",
    "            \"LastName VARCHAR(60), RegistrationDate DATE,Class Varchar(20), Section Varchar(10))\"\n",
    "\n",
    "    cursor = mydb.cursor() #create a cursor to execute queries\n",
    "    cursor.execute(query)\n",
    "    print(\"Table Created!!\")\n",
    "    mydb.close()\n",
    "except Exception as e:\n",
    "    mydb.close()\n",
    "    print(str(e))"
   ]
  },
  {
   "cell_type": "markdown",
   "id": "ddb0caac",
   "metadata": {},
   "source": [
    "###  Insert into tables:-"
   ]
  },
  {
   "cell_type": "code",
   "execution_count": 18,
   "id": "863cb7e5",
   "metadata": {},
   "outputs": [
    {
     "name": "stdout",
     "output_type": "stream",
     "text": [
      "True\n",
      "Values inserted into the table!!\n"
     ]
    }
   ],
   "source": [
    "import mysql.connector as connection\n",
    "\n",
    "try:\n",
    "    mydb = connection.connect(host=\"localhost\", database = 'Student',user=\"root\", passwd=\"12345\",use_pure=True)\n",
    "    # check if the connection is established\n",
    "    print(mydb.is_connected())\n",
    "    query = \"INSERT INTO StudentDetails VALUES ('1132','Sachin','Kumar','1997-11-11','Eleventh','A')\"\n",
    "\n",
    "    cursor = mydb.cursor() #create a cursor to execute queries\n",
    "    cursor.execute(query)\n",
    "    print(\"Values inserted into the table!!\")\n",
    "    mydb.commit()\n",
    "    mydb.close()\n",
    "except Exception as e:\n",
    "    mydb.close()\n",
    "    print(str(e))"
   ]
  },
  {
   "cell_type": "markdown",
   "id": "f9b31491",
   "metadata": {},
   "source": [
    "### Delete From Tables: "
   ]
  },
  {
   "cell_type": "code",
   "execution_count": 19,
   "id": "88d090d8",
   "metadata": {},
   "outputs": [],
   "source": [
    "# import mysql.connector as connection\n",
    "\n",
    "# try:\n",
    "\n",
    "#     mydb = connection.connect(host=\"localhost\", database='Student', user=\"root\", passwd=\"mysql\", use_pure=True)\n",
    "#     # check if the connection is established\n",
    "#     print(mydb.is_connected())\n",
    "#     query = \"DELETE FROM studentdetails WHERE Studentid = 1122\"\n",
    "#     cursor = mydb.cursor()  # create a cursor to execute queries\n",
    "#     cursor.execute(query)\n",
    "#     mydb.commit()\n",
    "\n",
    "#     #let's check if the value is updated in the table.\n",
    "#     query = \"Select * from studentdetails where Studentid=1122;\"\n",
    "#     cursor = mydb.cursor()  # create a cursor to execute queries\n",
    "#     cursor.execute(query)\n",
    "#     for result in cursor.fetchall():\n",
    "#         print(result)\n",
    "\n",
    "#     mydb.close()  # close the connection\n",
    "\n",
    "# except Exception as e:\n",
    "#     #mydb.close()\n",
    "#     print(str(e))"
   ]
  },
  {
   "cell_type": "code",
   "execution_count": 25,
   "id": "9a693fe0",
   "metadata": {},
   "outputs": [
    {
     "name": "stdout",
     "output_type": "stream",
     "text": [
      "True\n"
     ]
    }
   ],
   "source": [
    "import mysql.connector as connection\n",
    "try:\n",
    "    mydb = connection.connect(host = 'localhost', database = 'student', user = 'root', passwd = '12345', use_pure =True)\n",
    "    print(mydb.is_connected())\n",
    "    query = \"DELETE FROM studentdetails WHERE Studentid = 1132\"\n",
    "    cursor = mydb.cursor() # create the cursor to execute queries\n",
    "    cursor.execute(query)\n",
    "    mydb.commit()\n",
    "    \n",
    "    #Let's check if the values is updated in the table.\n",
    "    query = \"select * from studentdetails where studentid = 1122;\"\n",
    "    cursor = mydb.cursor() # create a cursor to execute queries\n",
    "    cursor.execute(query)\n",
    "    \n",
    "    for result in cursor.fetchall():\n",
    "        print(result)\n",
    "    mydb.close()  #close the connection\n",
    "except Exception as e:\n",
    "    mydb.close()\n",
    "    print(str(e))"
   ]
  },
  {
   "cell_type": "code",
   "execution_count": 23,
   "id": "4507b5c2",
   "metadata": {},
   "outputs": [],
   "source": [
    "cursor = cursor.fetchall()"
   ]
  },
  {
   "cell_type": "code",
   "execution_count": 24,
   "id": "2a47554e",
   "metadata": {},
   "outputs": [
    {
     "data": {
      "text/plain": [
       "[]"
      ]
     },
     "execution_count": 24,
     "metadata": {},
     "output_type": "execute_result"
    }
   ],
   "source": [
    "cursor"
   ]
  },
  {
   "cell_type": "code",
   "execution_count": null,
   "id": "4e9ef76b",
   "metadata": {},
   "outputs": [],
   "source": []
  }
 ],
 "metadata": {
  "kernelspec": {
   "display_name": "Python 3 (ipykernel)",
   "language": "python",
   "name": "python3"
  },
  "language_info": {
   "codemirror_mode": {
    "name": "ipython",
    "version": 3
   },
   "file_extension": ".py",
   "mimetype": "text/x-python",
   "name": "python",
   "nbconvert_exporter": "python",
   "pygments_lexer": "ipython3",
   "version": "3.9.7"
  }
 },
 "nbformat": 4,
 "nbformat_minor": 5
}
